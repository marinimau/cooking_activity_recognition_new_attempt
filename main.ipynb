{
 "cells": [
  {
   "cell_type": "code",
   "execution_count": null,
   "outputs": [],
   "source": [],
   "metadata": {
    "collapsed": false,
    "pycharm": {
     "name": "#%%\n"
    }
   }
  },
  {
   "cell_type": "markdown",
   "source": [
    "## Cooking activity recognition using indoor air quality sensors"
   ],
   "metadata": {
    "collapsed": false
   }
  },
  {
   "cell_type": "code",
   "execution_count": 1,
   "outputs": [],
   "source": [
    "import numpy as np\n",
    "import pandas as pd"
   ],
   "metadata": {
    "collapsed": false,
    "pycharm": {
     "name": "#%%\n"
    }
   }
  },
  {
   "cell_type": "markdown",
   "source": [
    "1. import data"
   ],
   "metadata": {
    "collapsed": false,
    "pycharm": {
     "name": "#%% md\n"
    }
   }
  },
  {
   "cell_type": "code",
   "execution_count": 23,
   "outputs": [
    {
     "data": {
      "text/plain": "      Date and Time  Temperature  Relative Humidity  PM2.5   TVOC    CO2   CO  \\\n0  2018-04-19 00:00         22.4              66.60  29.96   97.0  577.0  0.0   \n1  2018-04-19 00:01         22.4              66.50  32.73   98.0  574.0  0.0   \n2  2018-04-19 00:02         22.4              66.69  19.70   98.0  592.0  0.0   \n3  2018-04-19 00:03         22.4              66.63  18.13   98.0  609.0  0.0   \n4  2018-04-19 00:04         22.4              66.59  41.60  100.0  607.0  0.0   \n\n   Air Pressure  Ozone   NO2  ... Torta  Minestra  Carne in padella  Trippa  \\\n0       1023.62   5.19  0.74  ...     0         0                 0       0   \n1       1023.58   5.16  0.42  ...     0         0                 0       0   \n2       1023.60   5.15  0.73  ...     0         0                 0       0   \n3       1023.57   5.15  0.47  ...     0         0                 0       0   \n4       1023.57   5.14  0.49  ...     0         0                 0       0   \n\n   Carne in umido  Frittura        Window  Fornello  Macchina espresso  \\\n0               0         0  Trascurabile         0                  0   \n1               0         0  Trascurabile         0                  0   \n2               0         0  Trascurabile         0                  0   \n3               0         0  Trascurabile         0                  0   \n4               0         0  Trascurabile         0                  0   \n\n   Forno elettrico  \n0                0  \n1                0  \n2                0  \n3                0  \n4                0  \n\n[5 rows x 34 columns]",
      "text/html": "<div>\n<style scoped>\n    .dataframe tbody tr th:only-of-type {\n        vertical-align: middle;\n    }\n\n    .dataframe tbody tr th {\n        vertical-align: top;\n    }\n\n    .dataframe thead th {\n        text-align: right;\n    }\n</style>\n<table border=\"1\" class=\"dataframe\">\n  <thead>\n    <tr style=\"text-align: right;\">\n      <th></th>\n      <th>Date and Time</th>\n      <th>Temperature</th>\n      <th>Relative Humidity</th>\n      <th>PM2.5</th>\n      <th>TVOC</th>\n      <th>CO2</th>\n      <th>CO</th>\n      <th>Air Pressure</th>\n      <th>Ozone</th>\n      <th>NO2</th>\n      <th>...</th>\n      <th>Torta</th>\n      <th>Minestra</th>\n      <th>Carne in padella</th>\n      <th>Trippa</th>\n      <th>Carne in umido</th>\n      <th>Frittura</th>\n      <th>Window</th>\n      <th>Fornello</th>\n      <th>Macchina espresso</th>\n      <th>Forno elettrico</th>\n    </tr>\n  </thead>\n  <tbody>\n    <tr>\n      <th>0</th>\n      <td>2018-04-19 00:00</td>\n      <td>22.4</td>\n      <td>66.60</td>\n      <td>29.96</td>\n      <td>97.0</td>\n      <td>577.0</td>\n      <td>0.0</td>\n      <td>1023.62</td>\n      <td>5.19</td>\n      <td>0.74</td>\n      <td>...</td>\n      <td>0</td>\n      <td>0</td>\n      <td>0</td>\n      <td>0</td>\n      <td>0</td>\n      <td>0</td>\n      <td>Trascurabile</td>\n      <td>0</td>\n      <td>0</td>\n      <td>0</td>\n    </tr>\n    <tr>\n      <th>1</th>\n      <td>2018-04-19 00:01</td>\n      <td>22.4</td>\n      <td>66.50</td>\n      <td>32.73</td>\n      <td>98.0</td>\n      <td>574.0</td>\n      <td>0.0</td>\n      <td>1023.58</td>\n      <td>5.16</td>\n      <td>0.42</td>\n      <td>...</td>\n      <td>0</td>\n      <td>0</td>\n      <td>0</td>\n      <td>0</td>\n      <td>0</td>\n      <td>0</td>\n      <td>Trascurabile</td>\n      <td>0</td>\n      <td>0</td>\n      <td>0</td>\n    </tr>\n    <tr>\n      <th>2</th>\n      <td>2018-04-19 00:02</td>\n      <td>22.4</td>\n      <td>66.69</td>\n      <td>19.70</td>\n      <td>98.0</td>\n      <td>592.0</td>\n      <td>0.0</td>\n      <td>1023.60</td>\n      <td>5.15</td>\n      <td>0.73</td>\n      <td>...</td>\n      <td>0</td>\n      <td>0</td>\n      <td>0</td>\n      <td>0</td>\n      <td>0</td>\n      <td>0</td>\n      <td>Trascurabile</td>\n      <td>0</td>\n      <td>0</td>\n      <td>0</td>\n    </tr>\n    <tr>\n      <th>3</th>\n      <td>2018-04-19 00:03</td>\n      <td>22.4</td>\n      <td>66.63</td>\n      <td>18.13</td>\n      <td>98.0</td>\n      <td>609.0</td>\n      <td>0.0</td>\n      <td>1023.57</td>\n      <td>5.15</td>\n      <td>0.47</td>\n      <td>...</td>\n      <td>0</td>\n      <td>0</td>\n      <td>0</td>\n      <td>0</td>\n      <td>0</td>\n      <td>0</td>\n      <td>Trascurabile</td>\n      <td>0</td>\n      <td>0</td>\n      <td>0</td>\n    </tr>\n    <tr>\n      <th>4</th>\n      <td>2018-04-19 00:04</td>\n      <td>22.4</td>\n      <td>66.59</td>\n      <td>41.60</td>\n      <td>100.0</td>\n      <td>607.0</td>\n      <td>0.0</td>\n      <td>1023.57</td>\n      <td>5.14</td>\n      <td>0.49</td>\n      <td>...</td>\n      <td>0</td>\n      <td>0</td>\n      <td>0</td>\n      <td>0</td>\n      <td>0</td>\n      <td>0</td>\n      <td>Trascurabile</td>\n      <td>0</td>\n      <td>0</td>\n      <td>0</td>\n    </tr>\n  </tbody>\n</table>\n<p>5 rows × 34 columns</p>\n</div>"
     },
     "execution_count": 23,
     "metadata": {},
     "output_type": "execute_result"
    }
   ],
   "source": [
    "path = 'data/uHooD.csv'\n",
    "df = pd.read_csv(path)\n",
    "df.head(5)\n"
   ],
   "metadata": {
    "collapsed": false,
    "pycharm": {
     "name": "#%%\n"
    }
   }
  },
  {
   "cell_type": "markdown",
   "source": [
    "2. remove food cooked class"
   ],
   "metadata": {
    "collapsed": false
   }
  },
  {
   "cell_type": "code",
   "execution_count": 24,
   "outputs": [
    {
     "data": {
      "text/plain": "      Date and Time  Temperature  Relative Humidity  PM2.5   TVOC    CO2   CO  \\\n0  2018-04-19 00:00         22.4              66.60  29.96   97.0  577.0  0.0   \n1  2018-04-19 00:01         22.4              66.50  32.73   98.0  574.0  0.0   \n2  2018-04-19 00:02         22.4              66.69  19.70   98.0  592.0  0.0   \n3  2018-04-19 00:03         22.4              66.63  18.13   98.0  609.0  0.0   \n4  2018-04-19 00:04         22.4              66.59  41.60  100.0  607.0  0.0   \n\n   Air Pressure  Ozone   NO2 Activity  \n0       1023.62   5.19  0.74     None  \n1       1023.58   5.16  0.42     None  \n2       1023.60   5.15  0.73     None  \n3       1023.57   5.15  0.47     None  \n4       1023.57   5.14  0.49     None  ",
      "text/html": "<div>\n<style scoped>\n    .dataframe tbody tr th:only-of-type {\n        vertical-align: middle;\n    }\n\n    .dataframe tbody tr th {\n        vertical-align: top;\n    }\n\n    .dataframe thead th {\n        text-align: right;\n    }\n</style>\n<table border=\"1\" class=\"dataframe\">\n  <thead>\n    <tr style=\"text-align: right;\">\n      <th></th>\n      <th>Date and Time</th>\n      <th>Temperature</th>\n      <th>Relative Humidity</th>\n      <th>PM2.5</th>\n      <th>TVOC</th>\n      <th>CO2</th>\n      <th>CO</th>\n      <th>Air Pressure</th>\n      <th>Ozone</th>\n      <th>NO2</th>\n      <th>Activity</th>\n    </tr>\n  </thead>\n  <tbody>\n    <tr>\n      <th>0</th>\n      <td>2018-04-19 00:00</td>\n      <td>22.4</td>\n      <td>66.60</td>\n      <td>29.96</td>\n      <td>97.0</td>\n      <td>577.0</td>\n      <td>0.0</td>\n      <td>1023.62</td>\n      <td>5.19</td>\n      <td>0.74</td>\n      <td>None</td>\n    </tr>\n    <tr>\n      <th>1</th>\n      <td>2018-04-19 00:01</td>\n      <td>22.4</td>\n      <td>66.50</td>\n      <td>32.73</td>\n      <td>98.0</td>\n      <td>574.0</td>\n      <td>0.0</td>\n      <td>1023.58</td>\n      <td>5.16</td>\n      <td>0.42</td>\n      <td>None</td>\n    </tr>\n    <tr>\n      <th>2</th>\n      <td>2018-04-19 00:02</td>\n      <td>22.4</td>\n      <td>66.69</td>\n      <td>19.70</td>\n      <td>98.0</td>\n      <td>592.0</td>\n      <td>0.0</td>\n      <td>1023.60</td>\n      <td>5.15</td>\n      <td>0.73</td>\n      <td>None</td>\n    </tr>\n    <tr>\n      <th>3</th>\n      <td>2018-04-19 00:03</td>\n      <td>22.4</td>\n      <td>66.63</td>\n      <td>18.13</td>\n      <td>98.0</td>\n      <td>609.0</td>\n      <td>0.0</td>\n      <td>1023.57</td>\n      <td>5.15</td>\n      <td>0.47</td>\n      <td>None</td>\n    </tr>\n    <tr>\n      <th>4</th>\n      <td>2018-04-19 00:04</td>\n      <td>22.4</td>\n      <td>66.59</td>\n      <td>41.60</td>\n      <td>100.0</td>\n      <td>607.0</td>\n      <td>0.0</td>\n      <td>1023.57</td>\n      <td>5.14</td>\n      <td>0.49</td>\n      <td>None</td>\n    </tr>\n  </tbody>\n</table>\n</div>"
     },
     "execution_count": 24,
     "metadata": {},
     "output_type": "execute_result"
    }
   ],
   "source": [
    "df_no_specific_cooking = df.iloc[:, : -23]\n",
    "df_no_specific_cooking.head(5)"
   ],
   "metadata": {
    "collapsed": false,
    "pycharm": {
     "name": "#%%\n"
    }
   }
  },
  {
   "cell_type": "markdown",
   "source": [
    "3. drop row if there are any empty attribute"
   ],
   "metadata": {
    "collapsed": false
   }
  },
  {
   "cell_type": "code",
   "execution_count": 25,
   "outputs": [
    {
     "name": "stdout",
     "output_type": "stream",
     "text": [
      "before: 55829\n",
      "after: 55829\n"
     ]
    }
   ],
   "source": [
    "print(\"before: \" + str(len(df_no_specific_cooking.index)))\n",
    "df_no_specific_cooking.dropna(subset = [\"Temperature\", \"Relative Humidity\", \"PM2.5\", \"TVOC\", \"CO2\", \"CO\", \"Air Pressure\", \"Ozone\", \"NO2\"], inplace=True)\n",
    "print(\"after: \" + str(len(df_no_specific_cooking.index)))"
   ],
   "metadata": {
    "collapsed": false,
    "pycharm": {
     "name": "#%%\n"
    }
   }
  },
  {
   "cell_type": "markdown",
   "source": [
    "4. rename class column: Activity -> class"
   ],
   "metadata": {
    "collapsed": false,
    "pycharm": {
     "name": "#%% md\n"
    }
   }
  },
  {
   "cell_type": "code",
   "execution_count": 26,
   "outputs": [
    {
     "data": {
      "text/plain": "      Date and Time  Temperature  Relative Humidity  PM2.5  TVOC    CO2   CO  \\\n0  2018-04-19 00:00         22.4               66.6  29.96  97.0  577.0  0.0   \n\n   Air Pressure  Ozone   NO2 class  \n0       1023.62   5.19  0.74  None  ",
      "text/html": "<div>\n<style scoped>\n    .dataframe tbody tr th:only-of-type {\n        vertical-align: middle;\n    }\n\n    .dataframe tbody tr th {\n        vertical-align: top;\n    }\n\n    .dataframe thead th {\n        text-align: right;\n    }\n</style>\n<table border=\"1\" class=\"dataframe\">\n  <thead>\n    <tr style=\"text-align: right;\">\n      <th></th>\n      <th>Date and Time</th>\n      <th>Temperature</th>\n      <th>Relative Humidity</th>\n      <th>PM2.5</th>\n      <th>TVOC</th>\n      <th>CO2</th>\n      <th>CO</th>\n      <th>Air Pressure</th>\n      <th>Ozone</th>\n      <th>NO2</th>\n      <th>class</th>\n    </tr>\n  </thead>\n  <tbody>\n    <tr>\n      <th>0</th>\n      <td>2018-04-19 00:00</td>\n      <td>22.4</td>\n      <td>66.6</td>\n      <td>29.96</td>\n      <td>97.0</td>\n      <td>577.0</td>\n      <td>0.0</td>\n      <td>1023.62</td>\n      <td>5.19</td>\n      <td>0.74</td>\n      <td>None</td>\n    </tr>\n  </tbody>\n</table>\n</div>"
     },
     "execution_count": 26,
     "metadata": {},
     "output_type": "execute_result"
    }
   ],
   "source": [
    "df_no_specific_cooking.rename(columns = {'Activity': 'class'}, inplace = True)\n",
    "df_no_specific_cooking.head(1)"
   ],
   "metadata": {
    "collapsed": false,
    "pycharm": {
     "name": "#%%\n"
    }
   }
  },
  {
   "cell_type": "markdown",
   "source": [
    "5. normalize class values"
   ],
   "metadata": {
    "collapsed": false,
    "pycharm": {
     "name": "#%% md\n"
    }
   }
  },
  {
   "cell_type": "code",
   "execution_count": 27,
   "outputs": [
    {
     "data": {
      "text/plain": "array([0, 1])"
     },
     "execution_count": 27,
     "metadata": {},
     "output_type": "execute_result"
    }
   ],
   "source": [
    "df_no_specific_cooking['class'].unique()\n",
    "class_mapping = {\n",
    "    'None': 0,\n",
    "    'Colazione': 1,\n",
    "    'Pranzo': 1,\n",
    "    'Cena': 1\n",
    "}\n",
    "\n",
    "df_no_specific_cooking['class'] = df_no_specific_cooking['class'].map(class_mapping)\n",
    "df_no_specific_cooking['class'].unique()"
   ],
   "metadata": {
    "collapsed": false,
    "pycharm": {
     "name": "#%%\n"
    }
   }
  },
  {
   "cell_type": "markdown",
   "source": [
    "6. PCA"
   ],
   "metadata": {
    "collapsed": false
   }
  },
  {
   "cell_type": "code",
   "execution_count": 42,
   "outputs": [],
   "source": [
    "from sklearn.preprocessing import StandardScaler\n",
    "\n",
    "df = df_no_specific_cooking\n",
    "\n",
    "features = [\"Temperature\", \"Relative Humidity\", \"PM2.5\", \"TVOC\", \"CO2\", \"CO\", \"Air Pressure\", \"Ozone\", \"NO2\"]\n",
    "x = df.loc[:, features].values\n",
    "y = df.loc[:,['class']].values\n",
    "x = StandardScaler().fit_transform(x)"
   ],
   "metadata": {
    "collapsed": false,
    "pycharm": {
     "name": "#%%\n"
    }
   }
  },
  {
   "cell_type": "code",
   "execution_count": 43,
   "outputs": [],
   "source": [
    "from sklearn.decomposition import PCA\n",
    "\n",
    "pca = PCA(n_components=len(features))\n",
    "principalComponents = pca.fit_transform(x)\n",
    "principalDf = pd.DataFrame(data = principalComponents\n",
    "             , columns = ['p1', 'p2', 'p3', 'p4', 'p5', 'p6', 'p7', 'p8', 'p9'])"
   ],
   "metadata": {
    "collapsed": false,
    "pycharm": {
     "name": "#%%\n"
    }
   }
  },
  {
   "cell_type": "code",
   "execution_count": 46,
   "outputs": [
    {
     "data": {
      "text/plain": "      Date and Time        p1        p2        p3        p4        p5  \\\n0  2018-04-19 00:00  0.963170  0.852720 -0.553295 -0.082467  0.217235   \n1  2018-04-19 00:01  0.942435  0.921742 -0.681599 -0.063085  0.024214   \n2  2018-04-19 00:02  0.838728  0.528732 -0.339622 -0.148821  0.930609   \n3  2018-04-19 00:03  0.781268  0.484412 -0.335957 -0.159006  1.038585   \n4  2018-04-19 00:04  0.938856  1.246338 -0.821653 -0.007542 -0.605295   \n\n         p6        p7        p8        p9  class  \n0  2.234763 -0.593755 -0.363818 -0.097237      0  \n1  2.317459 -0.612724 -0.370516 -0.117996      0  \n2  1.883154 -0.546522 -0.421438 -0.079885      0  \n3  1.819713 -0.508757 -0.469650 -0.124928      0  \n4  2.610545 -0.549717 -0.354140 -0.098492      0  ",
      "text/html": "<div>\n<style scoped>\n    .dataframe tbody tr th:only-of-type {\n        vertical-align: middle;\n    }\n\n    .dataframe tbody tr th {\n        vertical-align: top;\n    }\n\n    .dataframe thead th {\n        text-align: right;\n    }\n</style>\n<table border=\"1\" class=\"dataframe\">\n  <thead>\n    <tr style=\"text-align: right;\">\n      <th></th>\n      <th>Date and Time</th>\n      <th>p1</th>\n      <th>p2</th>\n      <th>p3</th>\n      <th>p4</th>\n      <th>p5</th>\n      <th>p6</th>\n      <th>p7</th>\n      <th>p8</th>\n      <th>p9</th>\n      <th>class</th>\n    </tr>\n  </thead>\n  <tbody>\n    <tr>\n      <th>0</th>\n      <td>2018-04-19 00:00</td>\n      <td>0.963170</td>\n      <td>0.852720</td>\n      <td>-0.553295</td>\n      <td>-0.082467</td>\n      <td>0.217235</td>\n      <td>2.234763</td>\n      <td>-0.593755</td>\n      <td>-0.363818</td>\n      <td>-0.097237</td>\n      <td>0</td>\n    </tr>\n    <tr>\n      <th>1</th>\n      <td>2018-04-19 00:01</td>\n      <td>0.942435</td>\n      <td>0.921742</td>\n      <td>-0.681599</td>\n      <td>-0.063085</td>\n      <td>0.024214</td>\n      <td>2.317459</td>\n      <td>-0.612724</td>\n      <td>-0.370516</td>\n      <td>-0.117996</td>\n      <td>0</td>\n    </tr>\n    <tr>\n      <th>2</th>\n      <td>2018-04-19 00:02</td>\n      <td>0.838728</td>\n      <td>0.528732</td>\n      <td>-0.339622</td>\n      <td>-0.148821</td>\n      <td>0.930609</td>\n      <td>1.883154</td>\n      <td>-0.546522</td>\n      <td>-0.421438</td>\n      <td>-0.079885</td>\n      <td>0</td>\n    </tr>\n    <tr>\n      <th>3</th>\n      <td>2018-04-19 00:03</td>\n      <td>0.781268</td>\n      <td>0.484412</td>\n      <td>-0.335957</td>\n      <td>-0.159006</td>\n      <td>1.038585</td>\n      <td>1.819713</td>\n      <td>-0.508757</td>\n      <td>-0.469650</td>\n      <td>-0.124928</td>\n      <td>0</td>\n    </tr>\n    <tr>\n      <th>4</th>\n      <td>2018-04-19 00:04</td>\n      <td>0.938856</td>\n      <td>1.246338</td>\n      <td>-0.821653</td>\n      <td>-0.007542</td>\n      <td>-0.605295</td>\n      <td>2.610545</td>\n      <td>-0.549717</td>\n      <td>-0.354140</td>\n      <td>-0.098492</td>\n      <td>0</td>\n    </tr>\n  </tbody>\n</table>\n</div>"
     },
     "execution_count": 46,
     "metadata": {},
     "output_type": "execute_result"
    }
   ],
   "source": [
    "finalDf = pd.concat([df[['Date and Time']], principalDf, df[['class']]], axis = 1)\n",
    "finalDf.head(5)\n"
   ],
   "metadata": {
    "collapsed": false,
    "pycharm": {
     "name": "#%%\n"
    }
   }
  },
  {
   "cell_type": "markdown",
   "source": [
    "7. remove outliers"
   ],
   "metadata": {
    "collapsed": false
   }
  },
  {
   "cell_type": "code",
   "execution_count": null,
   "outputs": [],
   "source": [],
   "metadata": {
    "collapsed": false,
    "pycharm": {
     "name": "#%%\n"
    }
   }
  }
 ],
 "metadata": {
  "kernelspec": {
   "display_name": "Python 3",
   "language": "python",
   "name": "python3"
  },
  "language_info": {
   "codemirror_mode": {
    "name": "ipython",
    "version": 2
   },
   "file_extension": ".py",
   "mimetype": "text/x-python",
   "name": "python",
   "nbconvert_exporter": "python",
   "pygments_lexer": "ipython2",
   "version": "2.7.6"
  }
 },
 "nbformat": 4,
 "nbformat_minor": 0
}